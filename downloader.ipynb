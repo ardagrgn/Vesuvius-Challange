{
 "cells": [
  {
   "cell_type": "code",
   "execution_count": 1,
   "id": "3be57d1f-90ca-4d7a-a6a6-3053ac7c31b8",
   "metadata": {},
   "outputs": [
    {
     "name": "stderr",
     "output_type": "stream",
     "text": [
      "C:\\Users\\Arda\\.conda\\envs\\torch_env\\lib\\site-packages\\tqdm\\auto.py:21: TqdmWarning: IProgress not found. Please update jupyter and ipywidgets. See https://ipywidgets.readthedocs.io/en/stable/user_install.html\n",
      "  from .autonotebook import tqdm as notebook_tqdm\n"
     ]
    }
   ],
   "source": [
    "import pandas as pd\n",
    "from sklearn.model_selection import train_test_split\n",
    "import numpy as np\n",
    "import matplotlib.pyplot as plt\n",
    "import requests as rq\n",
    "from requests.auth import HTTPBasicAuth\n",
    "import cv2\n",
    "import os \n",
    "from bs4 import BeautifulSoup\n",
    "import time\n",
    "import torch as tor\n",
    "from torchvision.datasets import ImageFolder\n",
    "from torchvision import  transforms\n",
    "from torchvision.io import read_image\n",
    "from torch.utils.data import Dataset\n",
    "from torch.utils.data import DataLoader\n",
    "from torch.utils.tensorboard import SummaryWriter\n",
    "from datetime import datetime\n",
    "from torch.utils.data import Subset"
   ]
  },
  {
   "cell_type": "code",
   "execution_count": 2,
   "id": "36669771-01aa-445e-b5eb-3e887bc6b09c",
   "metadata": {},
   "outputs": [],
   "source": [
    "basic = HTTPBasicAuth('**********', '****')"
   ]
  },
  {
   "cell_type": "code",
   "execution_count": 3,
   "id": "bf341cce-5ff6-4b92-84f0-c1efad10e383",
   "metadata": {},
   "outputs": [],
   "source": [
    "segments= {\"Seg1\": [\"20231012184423\", 206.9 ]  \n",
    "          }"
   ]
  },
  {
   "cell_type": "code",
   "execution_count": 4,
   "id": "3967db59-15a2-4b52-aa08-3fd035ebf8d6",
   "metadata": {},
   "outputs": [],
   "source": [
    "def get_subv_file_names(name):\n",
    "    #name:: file name of the fragment\n",
    "    #vol_num: File number given fragments volume storage\n",
    "    \n",
    "    r=rq.get(\"http://dl.ash2txt.org/full-scrolls/Scroll1.volpkg/paths/{}/layers\".format(name),auth=basic)\n",
    "    page=r.content\n",
    "    links = BeautifulSoup(page).findAll(\"a\")\n",
    "    return [i.get(\"href\") for i in links if i.get(\"href\")[-3:]==\"tif\"]\n",
    "\n",
    "def download_sub_file(f_name,name,tif):\n",
    "    #f_name:: directory for downloads\n",
    "    #name:: file name of the fragment\n",
    "    #vol_num:: File number given fragments volume storage\n",
    "    #tif:: .tif file to download\n",
    "    r_tif=rq.get(\"http://dl.ash2txt.org/full-scrolls/Scroll1.volpkg/paths/{}/layers/{}\".format(name,tif),auth=basic)\n",
    "    try:\n",
    "        os.mkdir(\"Segment_Samples\")\n",
    "    except:\n",
    "        pass\n",
    "    \n",
    "    file_dir= \"Segment_Samples/{}\".format(f_name)\n",
    "    \n",
    "    try:\n",
    "        os.mkdir(file_dir)\n",
    "    except:\n",
    "        pass\n",
    "    file = open(\"{}/{}\".format(file_dir,tif), \"wb\")\n",
    "    file.write(r_tif.content)\n",
    "    file.close()"
   ]
  },
  {
   "cell_type": "code",
   "execution_count": 5,
   "id": "b8797796-afa9-4a01-a52d-a7c9a2622f92",
   "metadata": {},
   "outputs": [],
   "source": [
    "segname=\"Seg1\"\n",
    "segnum=segments[segname][0]\n",
    "segment_files=get_subv_file_names(segnum)\n",
    "for i in segment_files:\n",
    "    download_sub_file(segname,segnum,i)"
   ]
  },
  {
   "cell_type": "code",
   "execution_count": null,
   "id": "3aeb205f-431f-42b9-8e71-d36a541bd9e2",
   "metadata": {},
   "outputs": [],
   "source": []
  }
 ],
 "metadata": {
  "kernelspec": {
   "display_name": "Python 3 (ipykernel)",
   "language": "python",
   "name": "python3"
  },
  "language_info": {
   "codemirror_mode": {
    "name": "ipython",
    "version": 3
   },
   "file_extension": ".py",
   "mimetype": "text/x-python",
   "name": "python",
   "nbconvert_exporter": "python",
   "pygments_lexer": "ipython3",
   "version": "3.11.5"
  }
 },
 "nbformat": 4,
 "nbformat_minor": 5
}
